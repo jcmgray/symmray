{
 "cells": [
  {
   "cell_type": "code",
   "execution_count": null,
   "id": "3c3fa9dc",
   "metadata": {},
   "outputs": [],
   "source": [
    "import numpy as np\n",
    "import quimb.tensor as qtn\n",
    "\n",
    "import symmray as sr\n",
    "\n",
    "Lx = 8\n",
    "Ly = 8\n",
    "nsites = Lx * Ly\n",
    "D = 4\n",
    "chi = D\n",
    "seed = 42\n",
    "# only the flat backend is compatible with jax.jit\n",
    "flat = True\n",
    "\n",
    "# batchsize\n",
    "B = 1024\n",
    "\n",
    "peps = sr.networks.PEPS_fermionic_rand(\n",
    "    \"Z2\",\n",
    "    Lx,\n",
    "    Ly,\n",
    "    D,\n",
    "    phys_dim=[\n",
    "        (0, 0),  # linear index 0 -> charge 0, offset 0\n",
    "        (1, 1),  # linear index 1 -> charge 1, offset 1\n",
    "        (1, 0),  # linear index 2 -> charge 1, offset 0\n",
    "        (0, 1),  # linear index 3 -> charge 0, offset 1\n",
    "    ],\n",
    "    subsizes=\"equal\",\n",
    "    flat=flat,\n",
    "    seed=seed,\n",
    ")"
   ]
  },
  {
   "cell_type": "code",
   "execution_count": 2,
   "id": "ad705041",
   "metadata": {},
   "outputs": [],
   "source": [
    "import jax\n",
    "\n",
    "# get pytree of initial parameters, and reference tn structure\n",
    "params, skeleton = qtn.pack(peps)\n",
    "\n",
    "\n",
    "def amplitude(x, params):\n",
    "    tn = qtn.unpack(params, skeleton)\n",
    "\n",
    "    # might need to specify the right site ordering here\n",
    "    tnx = tn.isel({tn.site_ind(site): x[i] for i, site in enumerate(tn.sites)})\n",
    "\n",
    "    return tnx.contract_hotrg(\n",
    "        max_bond=chi,\n",
    "        cutoff=0.0,\n",
    "        # these two options make the return value (mantissa, exponent)\n",
    "        # which can avoid issues with small/large values and stability\n",
    "        equalize_norms=1.0,\n",
    "        final_contract_opts=dict(strip_exponent=True),\n",
    "    )\n",
    "\n",
    "\n",
    "amplitude_jit = jax.jit(amplitude)\n",
    "amplitude_vmap = jax.jit(jax.vmap(amplitude, in_axes=(0, None)))"
   ]
  },
  {
   "cell_type": "code",
   "execution_count": 3,
   "id": "6271bc26",
   "metadata": {},
   "outputs": [],
   "source": [
    "# generate half-filling configs\n",
    "rng = np.random.default_rng(seed)\n",
    "xs = np.concatenate(\n",
    "    [\n",
    "        np.zeros((B, nsites // 2), dtype=np.int32),\n",
    "        np.ones((B, nsites // 2), dtype=np.int32),\n",
    "    ],\n",
    "    axis=1,\n",
    ")\n",
    "xs = rng.permuted(xs, axis=1)"
   ]
  },
  {
   "cell_type": "markdown",
   "id": "ecc022d8",
   "metadata": {},
   "source": [
    "First test non jax jitted version:"
   ]
  },
  {
   "cell_type": "code",
   "execution_count": 4,
   "id": "990ebe37",
   "metadata": {},
   "outputs": [
    {
     "data": {
      "text/plain": [
       "(np.float64(1.0), np.float64(20.240824438306962))"
      ]
     },
     "execution_count": 4,
     "metadata": {},
     "output_type": "execute_result"
    }
   ],
   "source": [
    "mantissa, exponent = amplitude(xs[0], params)\n",
    "mantissa, exponent"
   ]
  },
  {
   "cell_type": "markdown",
   "id": "bc662814",
   "metadata": {},
   "source": [
    "Then test and warm up jax jitted version:"
   ]
  },
  {
   "cell_type": "code",
   "execution_count": 5,
   "id": "42bf4b32",
   "metadata": {},
   "outputs": [
    {
     "name": "stderr",
     "output_type": "stream",
     "text": [
      "E1029 17:32:10.474944  850595 slow_operation_alarm.cc:73] \n",
      "********************************\n",
      "[Compiling module jit_amplitude for GPU] Very slow compile? If you want to file a bug, run with envvar XLA_FLAGS=--xla_dump_to=/tmp/foo and attach the results.\n",
      "********************************\n",
      "E1029 17:32:34.238587  849892 slow_operation_alarm.cc:140] The operation took 2m23.763704233s\n",
      "\n",
      "********************************\n",
      "[Compiling module jit_amplitude for GPU] Very slow compile? If you want to file a bug, run with envvar XLA_FLAGS=--xla_dump_to=/tmp/foo and attach the results.\n",
      "********************************\n"
     ]
    },
    {
     "name": "stdout",
     "output_type": "stream",
     "text": [
      "CPU times: user 12min 55s, sys: 7.08 s, total: 13min 2s\n",
      "Wall time: 12min 53s\n"
     ]
    },
    {
     "data": {
      "text/plain": [
       "(Array(1.0000001, dtype=float32), Array(20.24084, dtype=float32))"
      ]
     },
     "execution_count": 5,
     "metadata": {},
     "output_type": "execute_result"
    }
   ],
   "source": [
    "%%time\n",
    "# test single amplitude is working\n",
    "mantissa, exponent = amplitude_jit(xs[0], params)\n",
    "mantissa, exponent"
   ]
  },
  {
   "cell_type": "code",
   "execution_count": 6,
   "id": "4243e98f",
   "metadata": {},
   "outputs": [
    {
     "name": "stdout",
     "output_type": "stream",
     "text": [
      "29.8 ms ± 354 μs per loop (mean ± std. dev. of 7 runs, 10 loops each)\n"
     ]
    }
   ],
   "source": [
    "%%timeit\n",
    "mantissa, exponent = jax.block_until_ready(amplitude_jit(xs[0], params))"
   ]
  },
  {
   "cell_type": "markdown",
   "id": "3d874eff",
   "metadata": {},
   "source": [
    "Then test and warm up jax vmapped version:"
   ]
  },
  {
   "cell_type": "code",
   "execution_count": 7,
   "id": "e460df4c",
   "metadata": {},
   "outputs": [
    {
     "name": "stdout",
     "output_type": "stream",
     "text": [
      "CPU times: user 6min 38s, sys: 6.76 s, total: 6min 45s\n",
      "Wall time: 6min 42s\n"
     ]
    },
    {
     "data": {
      "text/plain": [
       "(Array(1., dtype=float32), Array(20.240803, dtype=float32))"
      ]
     },
     "execution_count": 7,
     "metadata": {},
     "output_type": "execute_result"
    }
   ],
   "source": [
    "%%time\n",
    "# test batch\n",
    "mantissas, exponents = amplitude_vmap(xs, params)\n",
    "mantissas[0], exponents[0]"
   ]
  },
  {
   "cell_type": "code",
   "execution_count": 8,
   "id": "85e38700",
   "metadata": {},
   "outputs": [
    {
     "name": "stdout",
     "output_type": "stream",
     "text": [
      "228 ms ± 1.64 ms per loop (mean ± std. dev. of 7 runs, 1 loop each)\n"
     ]
    }
   ],
   "source": [
    "%%timeit\n",
    "mantissas, exponents = jax.block_until_ready(amplitude_vmap(xs, params))"
   ]
  }
 ],
 "metadata": {
  "kernelspec": {
   "display_name": "Python 3",
   "language": "python",
   "name": "python3"
  },
  "language_info": {
   "codemirror_mode": {
    "name": "ipython",
    "version": 3
   },
   "file_extension": ".py",
   "mimetype": "text/x-python",
   "name": "python",
   "nbconvert_exporter": "python",
   "pygments_lexer": "ipython3",
   "version": "3"
  }
 },
 "nbformat": 4,
 "nbformat_minor": 5
}
