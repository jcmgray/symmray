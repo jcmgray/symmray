{
 "cells": [
  {
   "cell_type": "code",
   "execution_count": 1,
   "id": "c434fe32",
   "metadata": {},
   "outputs": [],
   "source": [
    "import numpy as np\n",
    "import quimb.experimental.operatorbuilder as qop\n",
    "import quimb.tensor as qtn\n",
    "\n",
    "import symmray as sr\n",
    "\n",
    "Lx = 3\n",
    "Ly = 3\n",
    "D = 4\n",
    "seed = 42\n",
    "# only the flat backend is compatible with jax.jit\n",
    "flat = True\n",
    "\n",
    "peps = sr.networks.PEPS_fermionic_rand(\n",
    "    \"Z2\",\n",
    "    Lx,\n",
    "    Ly,\n",
    "    D,\n",
    "    # put an odd number of odd sites in, for testing\n",
    "    site_charge=lambda site: int(site in [(0, 0), (0, 1), (2, 2)]),\n",
    "    subsizes=\"equal\",\n",
    "    flat=flat,\n",
    "    seed=seed,\n",
    ")"
   ]
  },
  {
   "cell_type": "code",
   "execution_count": 2,
   "id": "cd0e907c",
   "metadata": {},
   "outputs": [],
   "source": [
    "edges = qtn.edges_2d_square(Lx, Ly)\n",
    "sites = [(i, j) for i in range(Lx) for j in range(Ly)]"
   ]
  },
  {
   "cell_type": "code",
   "execution_count": 3,
   "id": "ab4882f9-7096-4a2c-bce2-2c61e77c26e3",
   "metadata": {},
   "outputs": [],
   "source": [
    "terms = sr.hamiltonians.ham_fermi_hubbard_spinless_from_edges(\n",
    "    \"Z2\",\n",
    "    edges=edges,\n",
    "    V=3.71,\n",
    "    mu=0.119,\n",
    ")\n",
    "if flat:\n",
    "    terms = {k: v.to_flat() for k, v in terms.items()}"
   ]
  },
  {
   "cell_type": "code",
   "execution_count": 4,
   "id": "dfa487e3",
   "metadata": {},
   "outputs": [
    {
     "data": {
      "text/plain": [
       "np.float64(7.7778407241590655)"
      ]
     },
     "execution_count": 4,
     "metadata": {},
     "output_type": "execute_result"
    }
   ],
   "source": [
    "eref = peps.compute_local_expectation_exact(terms, normalized=True)\n",
    "eref"
   ]
  },
  {
   "cell_type": "code",
   "execution_count": 5,
   "id": "acd533a3",
   "metadata": {},
   "outputs": [
    {
     "data": {
      "text/plain": [
       "((0, 0), (0, 1), (0, 2), (1, 0), (1, 1), (1, 2), (2, 0), (2, 1), (2, 2))"
      ]
     },
     "execution_count": 5,
     "metadata": {},
     "output_type": "execute_result"
    }
   ],
   "source": [
    "H = qop.fermi_hubbard_spinless_from_edges(edges, V=3.71, mu=0.119)\n",
    "hs = H.hilbert_space\n",
    "hs.sites"
   ]
  },
  {
   "cell_type": "code",
   "execution_count": 6,
   "id": "7e051661-8534-4e87-b2ed-dff0e6012994",
   "metadata": {},
   "outputs": [],
   "source": [
    "if flat:\n",
    "    import jax\n",
    "    import jax.numpy as jnp\n",
    "\n",
    "    peps.apply_to_arrays(jnp.array)"
   ]
  },
  {
   "cell_type": "code",
   "execution_count": 7,
   "id": "8417550a",
   "metadata": {},
   "outputs": [],
   "source": [
    "def flat_amplitude(fx):\n",
    "    selector = {peps.site_ind(site): val for site, val in zip(hs.sites, fx)}\n",
    "    tnb = peps.isel(selector)\n",
    "    return tnb.contract()\n",
    "\n",
    "\n",
    "if flat:\n",
    "    flat_amplitude = jax.jit(flat_amplitude)"
   ]
  },
  {
   "cell_type": "code",
   "execution_count": 8,
   "id": "16f8ad5b",
   "metadata": {},
   "outputs": [
    {
     "data": {
      "text/plain": [
       "Array(7.7778387, dtype=float32)"
      ]
     },
     "execution_count": 8,
     "metadata": {},
     "output_type": "execute_result"
    }
   ],
   "source": [
    "O = 0.0\n",
    "p = 0.0\n",
    "\n",
    "fcs = []\n",
    "for i in range(hs.size):\n",
    "    fx = hs.rank_to_flatconfig(i)\n",
    "\n",
    "    xpsi = flat_amplitude(fx)\n",
    "    if not xpsi:\n",
    "        continue\n",
    "\n",
    "    pi = abs(xpsi) ** 2\n",
    "    p += pi\n",
    "\n",
    "    Oloc = 0.0\n",
    "    for fy, hxy in zip(*H.flatconfig_coupling(fx)):\n",
    "        ypsi = flat_amplitude(fy)\n",
    "        Oloc = Oloc + hxy * ypsi / xpsi\n",
    "\n",
    "    O += Oloc * pi\n",
    "\n",
    "O / p"
   ]
  },
  {
   "cell_type": "code",
   "execution_count": 9,
   "id": "daa2b6d1",
   "metadata": {},
   "outputs": [
    {
     "data": {
      "text/plain": [
       "np.float64(7.7778407241590655)"
      ]
     },
     "execution_count": 9,
     "metadata": {},
     "output_type": "execute_result"
    }
   ],
   "source": [
    "eref"
   ]
  }
 ],
 "metadata": {
  "kernelspec": {
   "display_name": "'jax (pixi)'",
   "language": "python",
   "name": "jax"
  },
  "language_info": {
   "codemirror_mode": {
    "name": "ipython",
    "version": 3
   },
   "file_extension": ".py",
   "mimetype": "text/x-python",
   "name": "python",
   "nbconvert_exporter": "python",
   "pygments_lexer": "ipython3",
   "version": "3.13.9"
  }
 },
 "nbformat": 4,
 "nbformat_minor": 5
}
