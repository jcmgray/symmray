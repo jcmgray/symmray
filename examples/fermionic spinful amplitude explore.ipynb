{
 "cells": [
  {
   "cell_type": "code",
   "execution_count": 1,
   "id": "bb9dba7a",
   "metadata": {},
   "outputs": [],
   "source": [
    "import numpy as np\n",
    "import quimb.experimental.operatorbuilder as qop\n",
    "import quimb.tensor as qtn\n",
    "\n",
    "import symmray as sr\n",
    "\n",
    "Lx = 2\n",
    "Ly = 3\n",
    "D = 4\n",
    "seed = 42\n",
    "# only the flat backend is compatible with jax.jit\n",
    "flat = True\n",
    "\n",
    "peps = sr.networks.PEPS_fermionic_rand(\n",
    "    \"Z2\",\n",
    "    Lx,\n",
    "    Ly,\n",
    "    D,\n",
    "    phys_dim=[\n",
    "        (0, 0),  # linear index 0 -> charge 0, offset 0\n",
    "        (1, 1),  # linear index 1 -> charge 1, offset 1\n",
    "        (1, 0),  # linear index 2 -> charge 1, offset 0\n",
    "        (0, 1),  # linear index 3 -> charge 0, offset 1\n",
    "    ],  # -> (0, 3), (2, 1)\n",
    "    # put an odd number of odd sites in, for testing\n",
    "    site_charge=lambda site: int(site in [(0, 0), (0, 1), (1, 0)]),\n",
    "    subsizes=\"equal\",\n",
    "    flat=flat,\n",
    "    seed=seed,\n",
    ")"
   ]
  },
  {
   "cell_type": "code",
   "execution_count": 2,
   "id": "6c30e4cf",
   "metadata": {},
   "outputs": [],
   "source": [
    "edges = qtn.edges_2d_square(Lx, Ly)\n",
    "sites = [(i, j) for i in range(Lx) for j in range(Ly)]"
   ]
  },
  {
   "cell_type": "code",
   "execution_count": 3,
   "id": "d4b29800",
   "metadata": {},
   "outputs": [],
   "source": [
    "# exact energy via local expectation contraction\n",
    "terms = sr.hamiltonians.ham_fermi_hubbard_from_edges(\n",
    "    \"Z2\", edges=edges, U=3.71, mu=0.119,\n",
    ")\n",
    "if flat:\n",
    "    terms = {k: v.to_flat() for k, v in terms.items()}"
   ]
  },
  {
   "cell_type": "code",
   "execution_count": 4,
   "id": "35a1fb38",
   "metadata": {},
   "outputs": [
    {
     "data": {
      "text/plain": [
       "np.float64(6.439453406305376)"
      ]
     },
     "execution_count": 4,
     "metadata": {},
     "output_type": "execute_result"
    }
   ],
   "source": [
    "eref = peps.compute_local_expectation_exact(terms, normalized=True)\n",
    "eref"
   ]
  },
  {
   "cell_type": "code",
   "execution_count": 5,
   "id": "2e8c9739",
   "metadata": {},
   "outputs": [
    {
     "data": {
      "text/plain": [
       "np.float64(-0.03469485193879984)"
      ]
     },
     "execution_count": 5,
     "metadata": {},
     "output_type": "execute_result"
    }
   ],
   "source": [
    "# compute the spin expectation at site (1,1)\n",
    "G_s11 = sr.fermi_spin_operator_local_array(\"Z2\")\n",
    "if flat:\n",
    "    G_s11 = G_s11.to_flat()\n",
    "s11ref = peps.local_expectation_exact(G_s11, where=[(1, 1)], normalized=True)\n",
    "s11ref"
   ]
  },
  {
   "cell_type": "code",
   "execution_count": 6,
   "id": "acd533a3",
   "metadata": {},
   "outputs": [
    {
     "data": {
      "text/plain": [
       "(('↑', (0, 0)),\n",
       " ('↓', (0, 0)),\n",
       " ('↑', (0, 1)),\n",
       " ('↓', (0, 1)),\n",
       " ('↑', (0, 2)),\n",
       " ('↓', (0, 2)),\n",
       " ('↑', (1, 0)),\n",
       " ('↓', (1, 0)),\n",
       " ('↑', (1, 1)),\n",
       " ('↓', (1, 1)),\n",
       " ('↑', (1, 2)),\n",
       " ('↓', (1, 2)))"
      ]
     },
     "execution_count": 6,
     "metadata": {},
     "output_type": "execute_result"
    }
   ],
   "source": [
    "# get a symbolic representation of the Hamiltonian\n",
    "H = qop.fermi_hubbard_from_edges(\n",
    "    edges,\n",
    "    U=3.71,\n",
    "    mu=0.119,\n",
    "    # this ordering pairs spins together, as with the fermionic TN\n",
    "    order=lambda site: (site[1], site[0]),\n",
    "    sector=int(sum(ary.charge for ary in peps.arrays) % 2),\n",
    "    symmetry=\"Z2\",\n",
    ")\n",
    "hs = H.hilbert_space\n",
    "hs.sites"
   ]
  },
  {
   "cell_type": "code",
   "execution_count": 7,
   "id": "d985d5ec",
   "metadata": {},
   "outputs": [],
   "source": [
    "if flat:\n",
    "    import jax\n",
    "    import jax.numpy as jnp\n",
    "\n",
    "    peps.apply_to_arrays(jnp.array)"
   ]
  },
  {
   "cell_type": "code",
   "execution_count": 8,
   "id": "8417550a",
   "metadata": {},
   "outputs": [],
   "source": [
    "def flat_amplitude(fx):\n",
    "    # convert neighboring pairs (up, down) to single index 0..3\n",
    "    # these should match up with the phys_dim ordering above\n",
    "    fx = 2 * fx[::2] + fx[1::2]\n",
    "\n",
    "    selector = {\n",
    "        peps.site_ind(site): val for site, val in zip(peps.sites, fx)\n",
    "    }\n",
    "    tnb = peps.isel(selector)\n",
    "    return tnb.contract()\n",
    "\n",
    "\n",
    "if flat:\n",
    "    flat_amplitude = jax.jit(flat_amplitude)"
   ]
  },
  {
   "cell_type": "code",
   "execution_count": 9,
   "id": "16f8ad5b",
   "metadata": {},
   "outputs": [
    {
     "data": {
      "text/plain": [
       "Array(6.43945, dtype=float32)"
      ]
     },
     "execution_count": 9,
     "metadata": {},
     "output_type": "execute_result"
    }
   ],
   "source": [
    "# compute the full exact energy at the amplitude level\n",
    "O = 0.0\n",
    "p = 0.0\n",
    "\n",
    "fcs = []\n",
    "for i in range(hs.size):\n",
    "    fx = hs.rank_to_flatconfig(i)\n",
    "\n",
    "    xpsi = flat_amplitude(fx)\n",
    "    if not xpsi:\n",
    "        continue\n",
    "\n",
    "    pi = abs(xpsi)**2\n",
    "    p += pi\n",
    "\n",
    "    Oloc = 0.0\n",
    "    for fy, hxy in zip(*H.flatconfig_coupling(fx)):\n",
    "        ypsi = flat_amplitude(fy)\n",
    "        Oloc = Oloc + hxy * ypsi / xpsi\n",
    "\n",
    "    O += Oloc * pi\n",
    "\n",
    "O / p"
   ]
  },
  {
   "cell_type": "code",
   "execution_count": 10,
   "id": "daa2b6d1",
   "metadata": {},
   "outputs": [
    {
     "data": {
      "text/plain": [
       "np.float64(6.439453406305376)"
      ]
     },
     "execution_count": 10,
     "metadata": {},
     "output_type": "execute_result"
    }
   ],
   "source": [
    "eref"
   ]
  },
  {
   "cell_type": "code",
   "execution_count": 11,
   "id": "8a172ea7",
   "metadata": {},
   "outputs": [
    {
     "data": {
      "text/plain": [
       "Array(0.03469491, dtype=float32)"
      ]
     },
     "execution_count": 11,
     "metadata": {},
     "output_type": "execute_result"
    }
   ],
   "source": [
    "# define symbolic spin operator at site (1,1)\n",
    "S = qop.SparseOperatorBuilder(\n",
    "    terms=[\n",
    "        (+1/2, (\"n\", ('↑', (1, 1)))),\n",
    "        (-1/2, (\"n\", ('↓', (1, 1)))),\n",
    "    ],\n",
    "    hilbert_space=H.hilbert_space,\n",
    ")\n",
    "\n",
    "# compute the full exact energy at the amplitude level\n",
    "s = 0.0\n",
    "p = 0.0\n",
    "\n",
    "fcs = []\n",
    "for i in range(hs.size):\n",
    "    fx = hs.rank_to_flatconfig(i)\n",
    "\n",
    "    xpsi = flat_amplitude(fx)\n",
    "    if not xpsi:\n",
    "        continue\n",
    "\n",
    "    pi = abs(xpsi)**2\n",
    "    p += pi\n",
    "\n",
    "    sloc = 0.0\n",
    "    for fy, hxy in zip(*S.flatconfig_coupling(fx)):\n",
    "        ypsi = flat_amplitude(fy)\n",
    "        sloc = sloc + hxy * ypsi / xpsi\n",
    "\n",
    "    s += sloc * pi\n",
    "\n",
    "s / p"
   ]
  },
  {
   "cell_type": "markdown",
   "id": "129ae64e",
   "metadata": {},
   "source": [
    "Spin up and down are inverted for some reason c.f. the local representation?"
   ]
  },
  {
   "cell_type": "code",
   "execution_count": 12,
   "id": "f22b48c9",
   "metadata": {},
   "outputs": [
    {
     "data": {
      "text/plain": [
       "np.float64(-0.03469485193879984)"
      ]
     },
     "execution_count": 12,
     "metadata": {},
     "output_type": "execute_result"
    }
   ],
   "source": [
    "s11ref"
   ]
  },
  {
   "cell_type": "markdown",
   "id": "0f7076ef",
   "metadata": {},
   "source": [
    "If one only has access to the hamiltonian in the another ordering, e.g. grouped\n",
    "by spin species, there will be extra signs to account for:"
   ]
  },
  {
   "cell_type": "code",
   "execution_count": 13,
   "id": "3e78e289",
   "metadata": {},
   "outputs": [
    {
     "name": "stdout",
     "output_type": "stream",
     "text": [
      "         spin first ordering         Hij :     site-first ordering       Hij\n",
      " 633 [0 1 0 0 1 1] [1 1 0 0 1 1]            [0 1 1 1 0 0 0 0 1 1 1 1]\n",
      "----    couples to ...      with ...\n",
      "  -> [1 0 0 0 1 1] [1 1 0 0 1 1]     -1  :  [1 1 0 1 0 0 0 0 1 1 1 1]      1\n",
      "  -> [0 1 0 0 1 1] [0 1 0 1 1 1]      1  :  [0 0 1 1 0 0 0 1 1 1 1 1]     -1\n",
      "  -> [0 0 1 0 1 1] [1 1 0 0 1 1]     -1  :  [0 1 0 1 1 0 0 0 1 1 1 1]      1\n",
      "  -> [0 1 0 0 1 1] [1 0 1 0 1 1]     -1  :  [0 1 1 0 0 1 0 0 1 1 1 1]     -1\n",
      "  -> [0 1 1 0 1 0] [1 1 0 0 1 1]      1  :  [0 1 1 1 1 0 0 0 1 1 0 1]     -1\n",
      "  -> [0 1 0 0 1 1] [1 1 1 0 1 0]      1  :  [0 1 1 1 0 1 0 0 1 1 1 0]      1\n",
      "  -> [0 1 0 1 0 1] [1 1 0 0 1 1]     -1  :  [0 1 1 1 0 0 1 0 0 1 1 1]     -1\n",
      "  -> [0 1 0 0 1 1] [1 1 0 1 0 1]     -1  :  [0 1 1 1 0 0 0 1 1 0 1 1]      1\n",
      "  -> [0 1 0 0 1 1] [1 1 0 0 1 1]   10.3  :  [0 1 1 1 0 0 0 0 1 1 1 1]   10.3\n",
      "----\n",
      "\n",
      "1846 [1 1 1 0 0 1] [1 0 1 1 0 0]            [1 1 1 0 1 1 0 1 0 0 1 0]\n",
      "----    couples to ...      with ...\n",
      "  -> [1 1 1 0 0 1] [0 1 1 1 0 0]     -1  :  [1 0 1 1 1 1 0 1 0 0 1 0]      1\n",
      "  -> [0 1 1 1 0 1] [1 0 1 1 0 0]     -1  :  [0 1 1 0 1 1 1 1 0 0 1 0]     -1\n",
      "  -> [1 1 1 0 0 1] [1 1 0 1 0 0]     -1  :  [1 1 1 1 1 0 0 1 0 0 1 0]      1\n",
      "  -> [1 0 1 0 1 1] [1 0 1 1 0 0]      1  :  [1 1 0 0 1 1 0 1 1 0 1 0]      1\n",
      "  -> [1 1 1 0 0 1] [1 0 0 1 0 1]      1  :  [1 1 1 0 1 0 0 1 0 0 1 1]     -1\n",
      "  -> [1 1 1 0 0 1] [1 0 1 0 1 0]     -1  :  [1 1 1 0 1 1 0 0 0 1 1 0]     -1\n",
      "  -> [1 1 1 0 1 0] [1 0 1 1 0 0]     -1  :  [1 1 1 0 1 1 0 1 1 0 0 0]     -1\n",
      "  -> [1 1 1 0 0 1] [1 0 1 1 0 0]  6.587  :  [1 1 1 0 1 1 0 1 0 0 1 0]  6.587\n",
      "----\n",
      "\n"
     ]
    }
   ],
   "source": [
    "H = qop.fermi_hubbard_from_edges(\n",
    "    edges,\n",
    "    U=3.71,\n",
    "    mu=0.119,\n",
    "    # this ordering\n",
    "    # order=lambda site: (site[1], site[0]),\n",
    "    sector=1,\n",
    "    symmetry=\"Z2\",\n",
    ")\n",
    "hs = H.hilbert_space\n",
    "\n",
    "Ha = qop.fermi_hubbard_from_edges(\n",
    "    edges,\n",
    "    U=3.71,\n",
    "    mu=0.119,\n",
    "    # this ordering\n",
    "    order=lambda site: (site[1], site[0]),\n",
    "    sector=1,\n",
    "    symmetry=\"Z2\",\n",
    ")\n",
    "hsa = Ha.hilbert_space\n",
    "\n",
    "print(\"         spin first ordering         Hij :     site-first ordering       Hij\")\n",
    "for i in [633, 1846]:\n",
    "    fx = hs.rank_to_flatconfig(i)\n",
    "\n",
    "    fys, hxys = H.flatconfig_coupling(fx)\n",
    "\n",
    "    fxa = np.empty_like(fx)\n",
    "    fxa[::2] = fx[: hs.nsites // 2]\n",
    "    fxa[1::2] = fx[hs.nsites // 2 :]\n",
    "    fyas, hxyas = Ha.flatconfig_coupling(fxa)\n",
    "\n",
    "    print(f\"{i:>4} {fx[:hs.nsites // 2]} {fx[hs.nsites // 2:]}            {fxa}\")\n",
    "    print(\"----    couples to ...      with ...\")\n",
    "\n",
    "    for i in range(len(fys)):\n",
    "        fy = fys[i]\n",
    "        fya = fyas[i]\n",
    "        hxy = hxys[i]\n",
    "        hxya = hxyas[i]\n",
    "        print(\n",
    "            \"  ->\", fy[:hs.nsites // 2], fy[hs.nsites // 2:],\n",
    "            # f\"{hxy:>6.4g}\", \" : \", fya[::2], fya[1::2], f\"{hxya:>6.4g}\"\n",
    "            f\"{hxy:>6.4g}\", \" : \", fya, f\"{hxya:>6.4g}\"\n",
    "        )\n",
    "    print(\"----\")\n",
    "    print()"
   ]
  }
 ],
 "metadata": {
  "kernelspec": {
   "display_name": "Python 3",
   "language": "python",
   "name": "python3"
  },
  "language_info": {
   "codemirror_mode": {
    "name": "ipython",
    "version": 3
   },
   "file_extension": ".py",
   "mimetype": "text/x-python",
   "name": "python",
   "nbconvert_exporter": "python",
   "pygments_lexer": "ipython3",
   "version": "3"
  }
 },
 "nbformat": 4,
 "nbformat_minor": 5
}
